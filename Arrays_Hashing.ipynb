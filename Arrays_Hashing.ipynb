{
 "cells": [
  {
   "cell_type": "markdown",
   "metadata": {},
   "source": [
    "# Contains Duplicate\n",
    "Given an integer array nums, return true if any value appears at least twice in the array, and return false if every element is distinct."
   ]
  },
  {
   "cell_type": "code",
   "execution_count": 1,
   "metadata": {},
   "outputs": [
    {
     "name": "stdout",
     "output_type": "stream",
     "text": [
      "True\n",
      "False\n"
     ]
    }
   ],
   "source": [
    "def contains_duplicate(array: list) -> bool:\n",
    "    if len(set(array)) == len(array):\n",
    "        return False\n",
    "    else:\n",
    "        return True\n",
    "    \n",
    "# Example 1:\n",
    "# Input: nums = [1,2,3,1]\n",
    "# Output: true\n",
    "\n",
    "# Example 2:\n",
    "# Input: nums = [1,2,3,4]\n",
    "# Output: false\n",
    "\n",
    "print(contains_duplicate([1,2,3,1]))\n",
    "print(contains_duplicate([1,2,3,4]))\n",
    "\n",
    "\n",
    "# Explanation: A set restricts the values of the array only to distinct values.\n",
    "#   Step 1: Check if the length of the set of the array = length of the array;\n",
    "#   Step 2: If it does, return false. Otherwise, return true;\n",
    "\n",
    "# Time Complexity: O(n). Only because when we're creating a set of the array, we are iterating through each element of the array."
   ]
  },
  {
   "cell_type": "markdown",
   "metadata": {},
   "source": [
    "# Valid Anagram\n",
    "Given two strings \"s\" and \"t\", return True if \"t\" is an anagram of \"s\" and False otherwise."
   ]
  },
  {
   "cell_type": "code",
   "execution_count": 1,
   "metadata": {},
   "outputs": [
    {
     "name": "stdout",
     "output_type": "stream",
     "text": [
      "True\n",
      "False\n"
     ]
    }
   ],
   "source": [
    "def is_anagram(s: str, t:str) -> bool:\n",
    "    if len(s) != len(t):\n",
    "        return False\n",
    "    \n",
    "    count_S, count_T = {}, {}\n",
    "    \n",
    "    for i in range(len(s)):\n",
    "        count_S[s[i]] = 1 + count_S.get(s[i], 0)\n",
    "        count_T[t[i]] = 1 + count_T.get(t[i], 0)\n",
    "    \n",
    "    return count_S == count_T\n",
    "\n",
    "# Example 1:\n",
    "# Input: s = \"anagram\", t = \"nagaram\"\n",
    "# Output: true\n",
    "\n",
    "# Example 2:\n",
    "# Input: s = \"rat\", t = \"car\"\n",
    "# Output: false\n",
    "\n",
    "print(is_anagram(s= \"anagram\", t= \"nagaram\"))\n",
    "print(is_anagram(s = \"rat\", t = \"car\"))\n",
    "\n",
    "# Explanation: An Anagram is a word formed by rearranging the letters of a different word.\n",
    "#   Step 1: if their length does not match, \"t\" can never be an anagram of \"s\";\n",
    "#   Step 2: iterate through all the keys on 1 of the dictionaries/hashmap (they both have the same length);\n",
    "#   Step 3: sum up the counts of each letter and store them in their respective arrays (for example: {a: 3, b: 2, c:1});\n",
    "#   Step 4: check if both dictionaries/hashmaps are the same (both contain the same number of letters);\n",
    "#   Step 5: if they are the same, return true. otherwise, return false;\n",
    "\n",
    "# Time complexity: O(n), where n is the input length of s and t (because of the for loop)."
   ]
  },
  {
   "cell_type": "markdown",
   "metadata": {},
   "source": [
    "# Two-Sum\n",
    "Given an array of integers nums and an integer target, return indices of the two numbers such that they add up to target.\n",
    "\n",
    "You may assume that each input would have exactly one solution, and you may not use the same element twice."
   ]
  },
  {
   "cell_type": "code",
   "execution_count": 1,
   "metadata": {},
   "outputs": [
    {
     "name": "stdout",
     "output_type": "stream",
     "text": [
      "[1, 2]\n",
      "[0, 1]\n"
     ]
    }
   ],
   "source": [
    "def two_sum(nums: list[int], target: int) -> list[int]:\n",
    "    prev_dict = {}  # every element in nums that comes before the current element in the loop {number: index}\n",
    "\n",
    "    for index, number in enumerate(nums):\n",
    "        diff: int = target - number\n",
    "        if diff in prev_dict:\n",
    "            return [prev_dict[diff], index]\n",
    "        prev_dict[number] = index\n",
    "\n",
    "# Example 2:\n",
    "# Input: nums = [3,2,4], target = 6\n",
    "# Output: [1,2]\n",
    "\n",
    "# Example 3:\n",
    "# Input: nums = [3,3], target = 6\n",
    "# Output: [0,1]\n",
    "\n",
    "print(two_sum(nums = [3,2,4], target = 6))\n",
    "print(two_sum(nums = [3,3], target = 6))\n",
    "\n",
    "# Explanation: For each number, the value that we need to sum to reach the target is the difference between target and current number.\n",
    "#   Step 1: Check if the difference between the target and the current number of the loop is already in the prev_dict;\n",
    "#   Step 2: Initially, it will be empty, therefore, crete a new entrance in the dictionary that is {number: index};\n",
    "#   Step 3: Move to the next iteration, check if the value that we need to reach the target (difference) is in the dictionary;\n",
    "#   Step 4: If it is, we have the solution and return the index of that number in the dictionary and the index of the current number;\n",
    "#   Step 5: If it is not, we keep iterating through the loop until we find one.\n",
    "\n",
    "# Time complexity: O(n), where n is the length of nums array (because of the for loop)."
   ]
  }
 ],
 "metadata": {
  "kernelspec": {
   "display_name": "Python 3",
   "language": "python",
   "name": "python3"
  },
  "language_info": {
   "codemirror_mode": {
    "name": "ipython",
    "version": 3
   },
   "file_extension": ".py",
   "mimetype": "text/x-python",
   "name": "python",
   "nbconvert_exporter": "python",
   "pygments_lexer": "ipython3",
   "version": "3.11.2"
  },
  "orig_nbformat": 4
 },
 "nbformat": 4,
 "nbformat_minor": 2
}
